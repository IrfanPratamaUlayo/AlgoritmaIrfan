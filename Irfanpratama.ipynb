{
  "nbformat": 4,
  "nbformat_minor": 0,
  "metadata": {
    "colab": {
      "provenance": [],
      "authorship_tag": "ABX9TyNW4oC33B/wIE5n/8jeXKsg",
      "include_colab_link": true
    },
    "kernelspec": {
      "name": "python3",
      "display_name": "Python 3"
    },
    "language_info": {
      "name": "python"
    }
  },
  "cells": [
    {
      "cell_type": "markdown",
      "metadata": {
        "id": "view-in-github",
        "colab_type": "text"
      },
      "source": [
        "<a href=\"https://colab.research.google.com/github/IrfanPratamaUlayo/AlgoritmaIrfan/blob/main/Irfanpratama.ipynb\" target=\"_parent\"><img src=\"https://colab.research.google.com/assets/colab-badge.svg\" alt=\"Open In Colab\"/></a>"
      ]
    },
    {
      "cell_type": "code",
      "execution_count": null,
      "metadata": {
        "colab": {
          "base_uri": "https://localhost:8080/"
        },
        "id": "OIn-mgniGyUY",
        "outputId": "fcb99775-81de-461a-fa3c-21fb861c3693"
      },
      "outputs": [
        {
          "output_type": "stream",
          "name": "stdout",
          "text": [
            "Masukan nama andairfan\n",
            "Hallo, Irfan! Selamat belajar di python\n"
          ]
        }
      ],
      "source": [
        "#Program input nama\n",
        "nama = input (\"Masukan nama anda\")\n",
        "#mencetak pesan\n",
        "print(\"Hallo, Irfan! Selamat belajar di python\")"
      ]
    },
    {
      "cell_type": "code",
      "source": [
        "#program menghitung luas persegi panjang\n",
        "#meminta input panjang dan lebar\n",
        "panjang = float(input(\"panjang\"))\n",
        "lebar = float(input(\"lebar\"))\n",
        "#menghitung luas\n",
        "luas = panjang * lebar\n",
        "#mencetak luas\n",
        "print(\"luas persegi panjang adalah\", luas)"
      ],
      "metadata": {
        "colab": {
          "base_uri": "https://localhost:8080/"
        },
        "id": "Inx1L60KHE5D",
        "outputId": "cc3f2c32-1c66-4f41-d043-2b44bc30490a"
      },
      "execution_count": null,
      "outputs": [
        {
          "output_type": "stream",
          "name": "stdout",
          "text": [
            "panjang5\n",
            "lebar3\n",
            "luas persegi panjang adalah 15.0\n"
          ]
        }
      ]
    },
    {
      "cell_type": "code",
      "source": [
        "#program memasukan bilangan bulat\n",
        "#menentukan bilangan ganjil atau genap\n",
        "bilangan=(int(input(\"Masukan bilangan bulat\")))\n",
        "if bilangan % 2 == 0:\n",
        "    print(\"Bilangan genap\")\n",
        "else:\n",
        "    print(\"Bilangan ganjil\")"
      ],
      "metadata": {
        "colab": {
          "base_uri": "https://localhost:8080/"
        },
        "id": "qO0G5TP2IwiT",
        "outputId": "09aea033-1783-4cb0-b285-bc2c15e1c81b"
      },
      "execution_count": null,
      "outputs": [
        {
          "output_type": "stream",
          "name": "stdout",
          "text": [
            "Masukan bilangan bulat7\n",
            "Bilangan ganjil\n"
          ]
        }
      ]
    },
    {
      "cell_type": "code",
      "source": [
        "for i in range(1,20):\n",
        "    print(i, end=\" \")"
      ],
      "metadata": {
        "id": "QumuDWjxJjkM",
        "colab": {
          "base_uri": "https://localhost:8080/"
        },
        "outputId": "ed5f9c26-a002-4598-8fc7-46e59106d5bb"
      },
      "execution_count": 13,
      "outputs": [
        {
          "output_type": "stream",
          "name": "stdout",
          "text": [
            "1 2 3 4 5 6 7 8 9 10 11 12 13 14 15 16 17 18 19 "
          ]
        }
      ]
    },
    {
      "cell_type": "code",
      "source": [
        "#program memasukan dua bilangan bulat a dan b\n",
        "#program menghitung jumlah semua bilangan antara a dan b\n",
        "a = int(input(\"Masukan bilangan bulat a: \"))\n",
        "b = int(input(\"Masukan bilangan bulat b: \"))\n",
        "jumlah = 0\n",
        "for i in range(a, b+1):\n",
        "    jumlah += i\n",
        "print(\"Jumlah semua bilangan antara\", a, \"dan\", b, \"adalah\", jumlah)"
      ],
      "metadata": {
        "colab": {
          "base_uri": "https://localhost:8080/"
        },
        "id": "pnpDO2FAMo47",
        "outputId": "df9eda8e-1eb4-4d34-e73a-d80d1b435bc2"
      },
      "execution_count": 16,
      "outputs": [
        {
          "output_type": "stream",
          "name": "stdout",
          "text": [
            "Masukan bilangan bulat a: 3\n",
            "Masukan bilangan bulat b: 7\n",
            "Jumlah semua bilangan antara 3 dan 7 adalah 25\n"
          ]
        }
      ]
    },
    {
      "cell_type": "code",
      "source": [
        "#program memasukan dua bilangan bulat a dan b\n",
        "#program menghitung jumlah semua bilangan antara a dan b\n",
        "a = int(input(\"Masukan bilangan bulat a: \"))\n",
        "b = int(input(\"Masukan bilangan bulat b: \"))\n",
        "jumlah = 0\n",
        "for i in range(a, b+1):\n",
        "    jumlah += i\n",
        "print(\"Jumlah semua bilangan antara\", a, \"dan\", b, \"adalah\", jumlah)"
      ],
      "metadata": {
        "id": "NZ_XUAE3PI9r"
      },
      "execution_count": null,
      "outputs": []
    },
    {
      "cell_type": "code",
      "source": [
        "#program memasukan dua bilangan bulat a dan b\n",
        "#program menghitung jumlah semua bilangan antara a dan b\n",
        "a = int(input(\"Masukan bilangan bulat a: \"))\n",
        "b = int(input(\"Masukan bilangan bulat b: \"))\n",
        "jumlah = 0\n",
        "while a <= b:\n",
        "    jumlah += a\n",
        "    a += 1\n",
        "print(\"Jumlah semua bilangan antara\", a, \"dan\", b, \"adalah\", jumlah)"
      ],
      "metadata": {
        "colab": {
          "base_uri": "https://localhost:8080/"
        },
        "id": "tKA3hDo3Q0rj",
        "outputId": "29cea290-b266-45f5-d3ac-c766c2be4b30"
      },
      "execution_count": 19,
      "outputs": [
        {
          "output_type": "stream",
          "name": "stdout",
          "text": [
            "Masukan bilangan bulat a: 3\n",
            "Masukan bilangan bulat b: 7\n",
            "Jumlah semua bilangan antara 8 dan 7 adalah 25\n"
          ]
        }
      ]
    },
    {
      "cell_type": "code",
      "source": [
        "#program meminta pengguna memasukan dua bilangan bulat a dan b\n",
        "#program harus mencetak dua bilangan genap dalam rentan tersebut a dan b\n",
        "a = int(input(\"Masukan bilangan bulat a: \"))\n",
        "b = int(input(\"Masukan bilangan bulat b: \"))\n",
        "while a <= b:\n",
        "    if a % 2 == 0:\n",
        "        print(a, end=\" \")\n",
        "    a += 1\n"
      ],
      "metadata": {
        "colab": {
          "base_uri": "https://localhost:8080/"
        },
        "id": "95ycpeC9SffE",
        "outputId": "6ee2823d-2b3b-4ca1-d63c-64b33acab7db"
      },
      "execution_count": 4,
      "outputs": [
        {
          "output_type": "stream",
          "name": "stdout",
          "text": [
            "Masukan bilangan bulat a: 3\n",
            "Masukan bilangan bulat b: 10\n",
            "4 6 8 10 "
          ]
        }
      ]
    },
    {
      "cell_type": "code",
      "source": [
        "#program meminta pengguna memasukan dua bilangan bulat a dan b\n",
        "#program harus mencetak dua bilangan genap dalam rentan tersebut a dan b\n",
        "a = int(input(\"Masukan bilangan bulat a: \"))\n",
        "b = int(input(\"Masukan bilangan bulat b: \"))\n",
        "while a <= b:\n",
        "    if a % 2 == 0:\n",
        "        print(a)\n",
        "    a += 1"
      ],
      "metadata": {
        "colab": {
          "base_uri": "https://localhost:8080/"
        },
        "id": "bF-4LlyRU6VE",
        "outputId": "3fd0ed8a-87f4-413c-90d5-0133da358ada"
      },
      "execution_count": 5,
      "outputs": [
        {
          "output_type": "stream",
          "name": "stdout",
          "text": [
            "Masukan bilangan bulat a: 3\n",
            "Masukan bilangan bulat b: 10\n",
            "4\n",
            "6\n",
            "8\n",
            "10\n"
          ]
        }
      ]
    },
    {
      "cell_type": "code",
      "source": [
        "#program memasukan dua bilangan bulat a dan b\n",
        "#program menghitung jumlah semua bilangan antara a dan b\n",
        "a = int(input(\"Masukan bilangan bulat a: \"))\n",
        "b = int(input(\"Masukan bilangan bulat b: \"))\n",
        "jumlah = 0\n",
        "for i in range(a, b+1):\n",
        "    jumlah += i\n",
        "print(\"Jumlah semua bilangan antara\", a, \"dan\", b, \"adalah\", jumlah)"
      ],
      "metadata": {
        "colab": {
          "base_uri": "https://localhost:8080/"
        },
        "id": "KVPAE_1nTqGs",
        "outputId": "964c48a7-7f3f-4a97-f1b2-d18218aa0585"
      },
      "execution_count": 3,
      "outputs": [
        {
          "output_type": "stream",
          "name": "stdout",
          "text": [
            "Masukan bilangan bulat a: 3\n",
            "Masukan bilangan bulat b: 10\n",
            "Jumlah semua bilangan antara 3 dan 10 adalah 52\n"
          ]
        }
      ]
    },
    {
      "cell_type": "code",
      "source": [
        "#mendefinisikan array\n",
        "A = [5,2,8,1]\n",
        "#mencetak nilai array dalam urutan terbalik\n",
        "for i in range(len(A)-1, -1, -1):\n",
        "    print(A[i], end=\" \")\n"
      ],
      "metadata": {
        "colab": {
          "base_uri": "https://localhost:8080/"
        },
        "id": "X0XNwJEDV0Bc",
        "outputId": "fc11f0ab-a472-4390-b22d-bffa6cb8bb17"
      },
      "execution_count": 10,
      "outputs": [
        {
          "output_type": "stream",
          "name": "stdout",
          "text": [
            "1 8 2 5 "
          ]
        }
      ]
    },
    {
      "cell_type": "code",
      "source": [
        "#program mencetak niali dari array dalam urutan terbalik\n",
        "A = [5,2,8,1]\n",
        "for i in range(len(A)-1, -1, -1):\n",
        "    print(A[i], end=\" \")"
      ],
      "metadata": {
        "colab": {
          "base_uri": "https://localhost:8080/"
        },
        "id": "rwW7WJECXEic",
        "outputId": "f3e4fbc0-78f3-4bea-ba92-a369aba79a32"
      },
      "execution_count": 12,
      "outputs": [
        {
          "output_type": "stream",
          "name": "stdout",
          "text": [
            "1 8 2 5 "
          ]
        }
      ]
    },
    {
      "cell_type": "code",
      "source": [
        "#program mencetak niali dari array dalam urutan terbalik\n",
        "A= [5,2,8,1]\n",
        "\n",
        "arrayTerbalik = [0] * len(A)\n",
        "\n",
        "for i in range(len(A)):\n",
        "  arrayTerbalik[len(A) - 1 - i] = A[i]\n",
        "\n",
        "print (f\"array asli:{A}\")\n",
        "print (f\"array terbalik :{arrayTerbalik}\")"
      ],
      "metadata": {
        "colab": {
          "base_uri": "https://localhost:8080/"
        },
        "id": "wk51g2KJXoAE",
        "outputId": "198ec1c3-828d-4736-9cf4-97c6297000b9"
      },
      "execution_count": 23,
      "outputs": [
        {
          "output_type": "stream",
          "name": "stdout",
          "text": [
            "array asli:[5, 2, 8, 1]\n",
            "array terbalik :[1, 8, 2, 5]\n"
          ]
        }
      ]
    }
  ]
}