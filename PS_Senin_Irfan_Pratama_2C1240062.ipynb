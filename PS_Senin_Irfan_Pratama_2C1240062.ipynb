{
  "nbformat": 4,
  "nbformat_minor": 0,
  "metadata": {
    "colab": {
      "provenance": [],
      "authorship_tag": "ABX9TyPHVL6oFZPkUlC3nTI4nAUO",
      "include_colab_link": true
    },
    "kernelspec": {
      "name": "python3",
      "display_name": "Python 3"
    },
    "language_info": {
      "name": "python"
    }
  },
  "cells": [
    {
      "cell_type": "markdown",
      "metadata": {
        "id": "view-in-github",
        "colab_type": "text"
      },
      "source": [
        "<a href=\"https://colab.research.google.com/github/IrfanPratamaUlayo/AlgoritmaIrfan/blob/main/PS_Senin_Irfan_Pratama_2C1240062.ipynb\" target=\"_parent\"><img src=\"https://colab.research.google.com/assets/colab-badge.svg\" alt=\"Open In Colab\"/></a>"
      ]
    },
    {
      "cell_type": "code",
      "execution_count": 2,
      "metadata": {
        "colab": {
          "base_uri": "https://localhost:8080/"
        },
        "id": "qoFEhWl40vdP",
        "outputId": "8b3a64d4-b5aa-4815-f556-f459888fed81"
      },
      "outputs": [
        {
          "output_type": "stream",
          "name": "stdout",
          "text": [
            "Hello, world!\n"
          ]
        }
      ],
      "source": [
        "#Program Helloword\n",
        "#Mencetak Hello, Word! ke layar\n",
        "\n",
        "#KAMPUS\n",
        "#belum diperlukan\n",
        "\n",
        "#ALGORITMA\n",
        "print(\"Hello, world!\")"
      ]
    },
    {
      "cell_type": "code",
      "source": [
        "#Program Text\n",
        "#Spesifikasi : Menghitung nilai A dan B\n",
        "\n",
        "#KAMPUS\n",
        "#A : int\n",
        "#B : int\n",
        "\n",
        "#ALGORITMA\n",
        "A = int(input(\"Masukkan angka=\"))              # input\n",
        "B = int(input(\"Masukkan angka=\"))\n",
        "\n",
        "A = A + B                     # Proses\n",
        "\n",
        "print(A)                      #output\n",
        "print(B)\n",
        "\n",
        "\n"
      ],
      "metadata": {
        "colab": {
          "base_uri": "https://localhost:8080/"
        },
        "id": "ulkOqaIX2fAB",
        "outputId": "c3162078-f470-4f9c-ef65-765c8c9e894b"
      },
      "execution_count": 5,
      "outputs": [
        {
          "output_type": "stream",
          "name": "stdout",
          "text": [
            "Masukkan angka=7\n",
            "Masukkan angka=9\n",
            "16\n",
            "9\n"
          ]
        }
      ]
    },
    {
      "cell_type": "code",
      "source": [
        "#Program Toko Kelereng\n",
        "#Sepesifikasi : Menghitung total nilai\n",
        "\n",
        "#KAMPUS\n",
        "#M : 10\n",
        "#H : 15\n",
        "#K : 20\n",
        "#Harga\n",
        "#M : 10\n",
        "#H : 5\n",
        "#K : 4\n",
        "#ALGORITMA\n",
        "M = int(input(\"Masukkan jumlah kelereng : M\"))\n",
        "H = int(input(\"Masukkan jumlah kelereng : H\"))\n",
        "K = int(input(\"Masukkan jumlah kelereng : K\"))\n",
        "total_bayar = (M*10) + (H*15) + (K*20)\n",
        "\n",
        "print(\"Jadi yang harus dibayarkan adalah\",total_bayar, \"rupiah\" )"
      ],
      "metadata": {
        "colab": {
          "base_uri": "https://localhost:8080/"
        },
        "id": "oFTxRliU915x",
        "outputId": "6d1a7f9c-25a7-4608-cdf6-043b6fcb21a2"
      },
      "execution_count": 2,
      "outputs": [
        {
          "output_type": "stream",
          "name": "stdout",
          "text": [
            "Masukkan jumlah kelereng : M10\n",
            "Masukkan jumlah kelereng : H15\n",
            "Masukkan jumlah kelereng : K20\n",
            "Jadi yang harus dibayarkan adalah 725 rupiah\n"
          ]
        }
      ]
    },
    {
      "cell_type": "code",
      "source": [
        "print"
      ],
      "metadata": {
        "id": "zOfA35n5GwzL"
      },
      "execution_count": null,
      "outputs": []
    }
  ]
}