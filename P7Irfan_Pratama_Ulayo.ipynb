{
  "nbformat": 4,
  "nbformat_minor": 0,
  "metadata": {
    "colab": {
      "provenance": [],
      "authorship_tag": "ABX9TyMtoptCx0Ya8Smz1GQw69eu",
      "include_colab_link": true
    },
    "kernelspec": {
      "name": "python3",
      "display_name": "Python 3"
    },
    "language_info": {
      "name": "python"
    }
  },
  "cells": [
    {
      "cell_type": "markdown",
      "metadata": {
        "id": "view-in-github",
        "colab_type": "text"
      },
      "source": [
        "<a href=\"https://colab.research.google.com/github/IrfanPratamaUlayo/AlgoritmaIrfan/blob/main/P7Irfan_Pratama_Ulayo.ipynb\" target=\"_parent\"><img src=\"https://colab.research.google.com/assets/colab-badge.svg\" alt=\"Open In Colab\"/></a>"
      ]
    },
    {
      "cell_type": "code",
      "execution_count": null,
      "metadata": {
        "id": "taGi3U72Ad7p"
      },
      "outputs": [],
      "source": [
        "#KAMPUS\n",
        "#N:int\n",
        "#SUM:int\n",
        "SUM = 0\n",
        "N = int(input())\n",
        "i = 1\n",
        "while (1<N AND 1)\n",
        "  SUM = SUM + x\n",
        "  x = int(input())\n",
        "  print(count,sum)\n"
      ]
    },
    {
      "cell_type": "code",
      "source": [
        "#Program untuk menghitung jumlah bilangna  kelipatan5 antara 1 hingga N\n",
        "def jumlah_kelipatan_5(N):\n",
        "  # inisiaslisasi variabel untuk menyimpan jumlah\n",
        "  jumlah = 0\n",
        "  # Loop untuk menjumlahkan kelipatan 5\n",
        "  for i in range(1, N+1):\n",
        "      if i % 5 == 0:\n",
        "          jumlah += i\n",
        "  # Kembalikan hasil\n",
        "  return jumlah\n",
        "# input dari pengguna\n",
        "try:\n",
        "   N + int(input(\"Masukan bilangan bulat positif  (N)\"))\n",
        "   if N > 0:\n",
        "      hasil = jumalah_kelipatan_5(N)\n",
        "      print(f\"jumlah semua bilangan antara kelipatan 5 antara 1 hingga {N} adalah:{hasil}\")\n",
        "\n"
      ],
      "metadata": {
        "id": "QCt7QDlgDUxJ"
      },
      "execution_count": null,
      "outputs": []
    },
    {
      "cell_type": "code",
      "source": [
        "# Algoritma\n",
        "N = int(input(\"Masukan bilangan integer positif N:\"))\n",
        "\n",
        "jumlah = 0\n",
        "i = 1\n",
        "\n",
        "print(\"Bilangan kelipatan 5 antara 1 s.d\",N, \":\")\n",
        "while i <= N:\n",
        " if i % 5 == 0:\n",
        "    print(i, end=\" \")\n",
        "    jumlah += i\n",
        " i += 1\n",
        "\n",
        " print(\"\\n jumlah semua bilangan kelipatan 5 antara 1 s.d.\"N, \"adalah:\", jumlah)"
      ],
      "metadata": {
        "id": "b6-nzhNCItFM"
      },
      "execution_count": null,
      "outputs": []
    }
  ]
}